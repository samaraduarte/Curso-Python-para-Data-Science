{
 "cells": [
  {
   "cell_type": "markdown",
   "metadata": {
    "id": "qykoO5OSy07O"
   },
   "source": [
    "# Lógica de programação com Python"
   ]
  },
  {
   "cell_type": "code",
   "execution_count": 1,
   "metadata": {
    "colab": {
     "base_uri": "https://localhost:8080/"
    },
    "id": "XybiIX36yqTn",
    "outputId": "33358428-a9e9-4a37-8748-1919d128b96e"
   },
   "outputs": [
    {
     "data": {
      "text/plain": [
       "2"
      ]
     },
     "execution_count": 1,
     "metadata": {},
     "output_type": "execute_result"
    }
   ],
   "source": [
    "1+1"
   ]
  },
  {
   "cell_type": "code",
   "execution_count": 2,
   "metadata": {
    "id": "8OltymtfznJ-"
   },
   "outputs": [],
   "source": [
    "nome = 'Samara'"
   ]
  },
  {
   "cell_type": "code",
   "execution_count": 3,
   "metadata": {
    "colab": {
     "base_uri": "https://localhost:8080/",
     "height": 35
    },
    "id": "Jcomfwmv0L2S",
    "outputId": "22ce911c-08d9-4929-861f-cf39783f5f38"
   },
   "outputs": [
    {
     "data": {
      "application/vnd.google.colaboratory.intrinsic+json": {
       "type": "string"
      },
      "text/plain": [
       "'Samara'"
      ]
     },
     "execution_count": 3,
     "metadata": {},
     "output_type": "execute_result"
    }
   ],
   "source": [
    "nome"
   ]
  },
  {
   "cell_type": "code",
   "execution_count": 4,
   "metadata": {
    "colab": {
     "base_uri": "https://localhost:8080/"
    },
    "id": "f7DCdMBq0M_x",
    "outputId": "f3aac5d3-86e5-49d2-87e6-93c49315e738"
   },
   "outputs": [
    {
     "data": {
      "text/plain": [
       "24"
      ]
     },
     "execution_count": 4,
     "metadata": {},
     "output_type": "execute_result"
    }
   ],
   "source": [
    "idade = 24\n",
    "idade"
   ]
  },
  {
   "cell_type": "code",
   "execution_count": 7,
   "metadata": {
    "colab": {
     "base_uri": "https://localhost:8080/"
    },
    "id": "ZXmObjc50Qe8",
    "outputId": "a270d4b1-40e6-4243-9457-3ab4357da411"
   },
   "outputs": [
    {
     "name": "stdout",
     "output_type": "stream",
     "text": [
      "O nome é Samara e sua idade é 29 anos.\n"
     ]
    }
   ],
   "source": [
    "print(f'O nome é {nome} e sua idade é {idade} anos.')"
   ]
  },
  {
   "cell_type": "code",
   "execution_count": 6,
   "metadata": {
    "id": "M_7Prhz80j9y"
   },
   "outputs": [],
   "source": [
    "idade = 29"
   ]
  },
  {
   "cell_type": "code",
   "execution_count": 8,
   "metadata": {
    "colab": {
     "base_uri": "https://localhost:8080/"
    },
    "id": "C0jbYDJB08yx",
    "outputId": "060e6e83-f298-4229-e7ea-32df7a22f84d"
   },
   "outputs": [
    {
     "name": "stdout",
     "output_type": "stream",
     "text": [
      "O nome é Samara e sua idade é 29 anos.\n"
     ]
    }
   ],
   "source": [
    "print(f'O nome é {nome} e sua idade é {idade} anos.')"
   ]
  },
  {
   "cell_type": "markdown",
   "metadata": {
    "id": "LSAekw7l_OiS"
   },
   "source": [
    "# Criando minha primeira função"
   ]
  },
  {
   "cell_type": "code",
   "execution_count": 9,
   "metadata": {
    "id": "436zJkir_SjS"
   },
   "outputs": [],
   "source": [
    "def saudacao():\n",
    "  nome = input('Qual é o seu nome? ')\n",
    "  print(f'Olá {nome}')"
   ]
  },
  {
   "cell_type": "code",
   "execution_count": 10,
   "metadata": {
    "colab": {
     "base_uri": "https://localhost:8080/"
    },
    "id": "3fijU6z5AVxi",
    "outputId": "30efe37d-82c2-4be2-ed59-0bc6f5e7f89f"
   },
   "outputs": [
    {
     "name": "stdout",
     "output_type": "stream",
     "text": [
      "Qual é o seu nome? Samara\n",
      "Olá Samara\n"
     ]
    }
   ],
   "source": [
    "saudacao()"
   ]
  },
  {
   "cell_type": "markdown",
   "metadata": {
    "id": "YqgJLV6plKGn"
   },
   "source": [
    "# Parâmetros"
   ]
  },
  {
   "cell_type": "code",
   "execution_count": 11,
   "metadata": {
    "id": "WZ0S7TIzlL3Y"
   },
   "outputs": [],
   "source": [
    "nome = 'Larissa'"
   ]
  },
  {
   "cell_type": "code",
   "execution_count": 12,
   "metadata": {
    "id": "1I8q3czSlRfR"
   },
   "outputs": [],
   "source": [
    "def saudacao_com_parametros(nome_da_pessoa):\n",
    "  print(f'Olá {nome_da_pessoa}')"
   ]
  },
  {
   "cell_type": "code",
   "execution_count": 13,
   "metadata": {
    "colab": {
     "base_uri": "https://localhost:8080/"
    },
    "id": "e3Gc170WlSsu",
    "outputId": "24f34904-de3d-443e-99ea-19e6a8a19a64"
   },
   "outputs": [
    {
     "name": "stdout",
     "output_type": "stream",
     "text": [
      "Olá Larissa\n"
     ]
    }
   ],
   "source": [
    "saudacao_com_parametros(nome)"
   ]
  },
  {
   "cell_type": "markdown",
   "metadata": {
    "id": "z6vzg4CJm-Jt"
   },
   "source": [
    "# Condicional"
   ]
  },
  {
   "cell_type": "code",
   "execution_count": 14,
   "metadata": {
    "colab": {
     "base_uri": "https://localhost:8080/"
    },
    "id": "d-FD9ckim5Pb",
    "outputId": "a80b69c5-24fc-49d4-a2c7-b55fa3c4aa64"
   },
   "outputs": [
    {
     "name": "stdout",
     "output_type": "stream",
     "text": [
      "Não tem permissão para dirigir\n"
     ]
    }
   ],
   "source": [
    "idade = 14\n",
    "\n",
    "def verifica_se_pode_dirigir(idade):\n",
    "  if idade >= 18:\n",
    "    print('Tem permissão para dirigir')\n",
    "  else:\n",
    "    print('Não tem permissão para dirigir')\n",
    "\n",
    "verifica_se_pode_dirigir(idade)"
   ]
  },
  {
   "cell_type": "markdown",
   "metadata": {
    "id": "ZZch3gSDpM-n"
   },
   "source": [
    "# Convertendo tipo para inteiro"
   ]
  },
  {
   "cell_type": "code",
   "execution_count": 15,
   "metadata": {
    "colab": {
     "base_uri": "https://localhost:8080/"
    },
    "id": "NthmkdmFneUO",
    "outputId": "73fa641a-12b3-4f7c-96f0-a090344ae315"
   },
   "outputs": [
    {
     "name": "stdout",
     "output_type": "stream",
     "text": [
      "Qual sua idade? 20\n",
      "Tem permissão para dirigir\n"
     ]
    }
   ],
   "source": [
    "def verifica_se_pode_dirigir_sem_parametros():\n",
    "  idade = input('Qual sua idade? ')\n",
    "  idade = int(idade)\n",
    "  if idade >= 18:\n",
    "    print('Tem permissão para dirigir')\n",
    "  else:\n",
    "    print('Não tem permissão para dirigir')\n",
    "\n",
    "verifica_se_pode_dirigir_sem_parametros()"
   ]
  },
  {
   "cell_type": "markdown",
   "metadata": {
    "id": "dsoF5WyLsohy"
   },
   "source": [
    "# Lista"
   ]
  },
  {
   "cell_type": "code",
   "execution_count": 16,
   "metadata": {
    "colab": {
     "base_uri": "https://localhost:8080/"
    },
    "id": "Qx5n3YADsgcT",
    "outputId": "249bf305-673e-4ae5-ccd8-7c0512403918"
   },
   "outputs": [
    {
     "data": {
      "text/plain": [
       "30"
      ]
     },
     "execution_count": 16,
     "metadata": {},
     "output_type": "execute_result"
    }
   ],
   "source": [
    "idade = 30\n",
    "idade"
   ]
  },
  {
   "cell_type": "code",
   "execution_count": 17,
   "metadata": {
    "colab": {
     "base_uri": "https://localhost:8080/"
    },
    "id": "oI5JFDMfslqv",
    "outputId": "ef236e7b-584f-44ef-d3d0-b90db8175498"
   },
   "outputs": [
    {
     "data": {
      "text/plain": [
       "int"
      ]
     },
     "execution_count": 17,
     "metadata": {},
     "output_type": "execute_result"
    }
   ],
   "source": [
    "type(idade)"
   ]
  },
  {
   "cell_type": "code",
   "execution_count": 18,
   "metadata": {
    "colab": {
     "base_uri": "https://localhost:8080/"
    },
    "id": "SjqnFUrosvhc",
    "outputId": "dad0e4e7-01e8-4c36-f60e-6dc23fa3b3a2"
   },
   "outputs": [
    {
     "data": {
      "text/plain": [
       "str"
      ]
     },
     "execution_count": 18,
     "metadata": {},
     "output_type": "execute_result"
    }
   ],
   "source": [
    "nome = 'Paola'\n",
    "type(nome)"
   ]
  },
  {
   "cell_type": "code",
   "execution_count": 19,
   "metadata": {
    "colab": {
     "base_uri": "https://localhost:8080/"
    },
    "id": "wl3ZUnJ0s0Rd",
    "outputId": "5352b3b0-adbb-4d58-f291-77c7bb905372"
   },
   "outputs": [
    {
     "data": {
      "text/plain": [
       "list"
      ]
     },
     "execution_count": 19,
     "metadata": {},
     "output_type": "execute_result"
    }
   ],
   "source": [
    "idades = [18, 22, 15, 60]\n",
    "type(idades)"
   ]
  },
  {
   "cell_type": "code",
   "execution_count": 20,
   "metadata": {
    "colab": {
     "base_uri": "https://localhost:8080/"
    },
    "id": "kSNAw_wys_hI",
    "outputId": "fbf966a2-ede3-4554-cdeb-b82f4640f420"
   },
   "outputs": [
    {
     "data": {
      "text/plain": [
       "15"
      ]
     },
     "execution_count": 20,
     "metadata": {},
     "output_type": "execute_result"
    }
   ],
   "source": [
    "idades[2]"
   ]
  },
  {
   "cell_type": "code",
   "execution_count": 21,
   "metadata": {
    "id": "f-BXWd7vtEH-"
   },
   "outputs": [],
   "source": [
    "idades = [18, 22, 15, 50]\n",
    "#         0   1   2   3\n",
    "#         0  -3  -2  -1"
   ]
  },
  {
   "cell_type": "code",
   "execution_count": 22,
   "metadata": {
    "colab": {
     "base_uri": "https://localhost:8080/"
    },
    "id": "MD374lZntOF7",
    "outputId": "1e309e95-e24a-46b8-ad0e-6364d0fb5e82"
   },
   "outputs": [
    {
     "data": {
      "text/plain": [
       "22"
      ]
     },
     "execution_count": 22,
     "metadata": {},
     "output_type": "execute_result"
    }
   ],
   "source": [
    "idades[1]"
   ]
  },
  {
   "cell_type": "code",
   "execution_count": 23,
   "metadata": {
    "colab": {
     "base_uri": "https://localhost:8080/"
    },
    "id": "TnvEOFuLtQND",
    "outputId": "ca9e7c1f-12bd-4ce1-ce12-9eb0614a6740"
   },
   "outputs": [
    {
     "data": {
      "text/plain": [
       "[18, 22, 15]"
      ]
     },
     "execution_count": 23,
     "metadata": {},
     "output_type": "execute_result"
    }
   ],
   "source": [
    "idades[0:3]"
   ]
  },
  {
   "cell_type": "code",
   "execution_count": 24,
   "metadata": {
    "colab": {
     "base_uri": "https://localhost:8080/"
    },
    "id": "xUxdyF5EtYsi",
    "outputId": "1dc63914-c1af-4c53-e6c7-063223c4d10f"
   },
   "outputs": [
    {
     "data": {
      "text/plain": [
       "[22, 15, 50]"
      ]
     },
     "execution_count": 24,
     "metadata": {},
     "output_type": "execute_result"
    }
   ],
   "source": [
    "idades[1:]"
   ]
  },
  {
   "cell_type": "code",
   "execution_count": 25,
   "metadata": {
    "colab": {
     "base_uri": "https://localhost:8080/"
    },
    "id": "EXlsN5qstm2G",
    "outputId": "4ae44b32-97ce-4157-8c0d-6353e8686aea"
   },
   "outputs": [
    {
     "data": {
      "text/plain": [
       "50"
      ]
     },
     "execution_count": 25,
     "metadata": {},
     "output_type": "execute_result"
    }
   ],
   "source": [
    "idades[-1]"
   ]
  },
  {
   "cell_type": "code",
   "execution_count": 26,
   "metadata": {
    "colab": {
     "base_uri": "https://localhost:8080/"
    },
    "id": "KHatm1-8tsGh",
    "outputId": "43257ba2-8ce4-409c-c760-010d457eed6d"
   },
   "outputs": [
    {
     "data": {
      "text/plain": [
       "15"
      ]
     },
     "execution_count": 26,
     "metadata": {},
     "output_type": "execute_result"
    }
   ],
   "source": [
    "idades[-2]"
   ]
  },
  {
   "cell_type": "markdown",
   "metadata": {
    "id": "A4ole1EvwvVL"
   },
   "source": [
    "# Laços e loops"
   ]
  },
  {
   "cell_type": "code",
   "execution_count": 27,
   "metadata": {
    "colab": {
     "base_uri": "https://localhost:8080/"
    },
    "id": "koCXWIJPt2UP",
    "outputId": "f3069182-4b05-4589-f602-b3548679d9c4"
   },
   "outputs": [
    {
     "data": {
      "text/plain": [
       "[18, 22, 15, 50]"
      ]
     },
     "execution_count": 27,
     "metadata": {},
     "output_type": "execute_result"
    }
   ],
   "source": [
    "idades"
   ]
  },
  {
   "cell_type": "code",
   "execution_count": 28,
   "metadata": {
    "colab": {
     "base_uri": "https://localhost:8080/"
    },
    "id": "m6OT6-c3wpyM",
    "outputId": "e5f5cda8-461e-4d40-a99f-f5d745ec0454"
   },
   "outputs": [
    {
     "name": "stdout",
     "output_type": "stream",
     "text": [
      "18 anos de idade, TEM permissão para dirigir\n",
      "22 anos de idade, TEM permissão para dirigir\n",
      "15 anos de idade, NÃO TEM permissão para dirigir\n",
      "50 anos de idade, TEM permissão para dirigir\n"
     ]
    }
   ],
   "source": [
    "# for fora da função\n",
    "\n",
    "def verifica_se_pode_dirigir(idade):\n",
    "  if idade >= 18:\n",
    "    print(f'{idade} anos de idade, TEM permissão para dirigir')\n",
    "  else:\n",
    "    print(f'{idade} anos de idade, NÃO TEM permissão para dirigir')\n",
    "\n",
    "for idade in idades:\n",
    "  verifica_se_pode_dirigir(idade)"
   ]
  },
  {
   "cell_type": "code",
   "execution_count": 29,
   "metadata": {
    "colab": {
     "base_uri": "https://localhost:8080/"
    },
    "id": "7C6NLsnaxap-",
    "outputId": "32b57361-89d3-4e79-ee53-745920a26d94"
   },
   "outputs": [
    {
     "name": "stdout",
     "output_type": "stream",
     "text": [
      "18 anos de idade, TEM permissão para dirigir\n",
      "22 anos de idade, TEM permissão para dirigir\n",
      "15 anos de idade, NÃO TEM permissão para dirigir\n",
      "50 anos de idade, TEM permissão para dirigir\n"
     ]
    }
   ],
   "source": [
    "def verifica_se_pode_dirigir(idades):\n",
    "  for idade in idades:\n",
    "    if idade >= 18:\n",
    "      print(f'{idade} anos de idade, TEM permissão para dirigir')\n",
    "    else:\n",
    "      print(f'{idade} anos de idade, NÃO TEM permissão para dirigir')\n",
    "\n",
    "verifica_se_pode_dirigir(idades)\n"
   ]
  },
  {
   "cell_type": "markdown",
   "metadata": {
    "id": "rsUr7whmzWhY"
   },
   "source": [
    "# Boleano"
   ]
  },
  {
   "cell_type": "code",
   "execution_count": 30,
   "metadata": {
    "colab": {
     "base_uri": "https://localhost:8080/"
    },
    "id": "8T8wJ28tzQpq",
    "outputId": "69947097-3bd5-43ff-f86d-fcdbd0c1551f"
   },
   "outputs": [
    {
     "data": {
      "text/plain": [
       "True"
      ]
     },
     "execution_count": 30,
     "metadata": {},
     "output_type": "execute_result"
    }
   ],
   "source": [
    "idade = 18\n",
    "idade >= 18"
   ]
  },
  {
   "cell_type": "code",
   "execution_count": 31,
   "metadata": {
    "colab": {
     "base_uri": "https://localhost:8080/"
    },
    "id": "Fsax-52ozf_V",
    "outputId": "364444cb-2f5c-4ab1-8532-c2c905cd3fab"
   },
   "outputs": [
    {
     "data": {
      "text/plain": [
       "False"
      ]
     },
     "execution_count": 31,
     "metadata": {},
     "output_type": "execute_result"
    }
   ],
   "source": [
    "idade = 15\n",
    "idade >= 18"
   ]
  },
  {
   "cell_type": "code",
   "execution_count": 32,
   "metadata": {
    "id": "5TrL0hmkzjhF"
   },
   "outputs": [],
   "source": [
    "permissoes = []\n",
    "idades = [20, 14, 40]\n",
    "\n",
    "def verifica_se_pode_dirigir(idades, permissoes):\n",
    "  for idade in idades:\n",
    "    if idade >= 18:\n",
    "      permissoes.append(True)\n",
    "    else:\n",
    "      permissoes.append(False)\n",
    "\n",
    "verifica_se_pode_dirigir(idades, permissoes)"
   ]
  },
  {
   "cell_type": "code",
   "execution_count": 33,
   "metadata": {
    "colab": {
     "base_uri": "https://localhost:8080/"
    },
    "id": "MXqN-zxf0UmK",
    "outputId": "37f84c10-8e67-4013-a66b-937474e088ec"
   },
   "outputs": [
    {
     "data": {
      "text/plain": [
       "[True, False, True]"
      ]
     },
     "execution_count": 33,
     "metadata": {},
     "output_type": "execute_result"
    }
   ],
   "source": [
    "permissoes"
   ]
  },
  {
   "cell_type": "code",
   "execution_count": 34,
   "metadata": {
    "colab": {
     "base_uri": "https://localhost:8080/"
    },
    "id": "SDv5J8qx0Wet",
    "outputId": "0472cc0f-072a-40a8-bf3c-655e20086922"
   },
   "outputs": [
    {
     "name": "stdout",
     "output_type": "stream",
     "text": [
      "Tem permissão para dirigir\n",
      "Não tem permissão para dirigir\n",
      "Tem permissão para dirigir\n"
     ]
    }
   ],
   "source": [
    "for permissao in permissoes:\n",
    "  if permissao == True:\n",
    "    print('Tem permissão para dirigir')\n",
    "  else:\n",
    "    print('Não tem permissão para dirigir')"
   ]
  },
  {
   "cell_type": "markdown",
   "metadata": {
    "id": "vdOrSJjHfyUS"
   },
   "source": [
    "# Tipos em uma lista"
   ]
  },
  {
   "cell_type": "code",
   "execution_count": 36,
   "metadata": {
    "colab": {
     "base_uri": "https://localhost:8080/"
    },
    "id": "d3OZM-F80189",
    "outputId": "bf830b24-ed71-45eb-ea64-fef3568117a0"
   },
   "outputs": [
    {
     "name": "stdout",
     "output_type": "stream",
     "text": [
      "O elemento Ana é do tipo:  <class 'str'>\n",
      "O elemento 42 é do tipo:  <class 'int'>\n",
      "O elemento True é do tipo:  <class 'bool'>\n",
      "O elemento 18 é do tipo:  <class 'str'>\n"
     ]
    }
   ],
   "source": [
    "lista = ['Ana', 42, True, '18']\n",
    "\n",
    "for elemento in lista:\n",
    "  print(f'O elemento {elemento} é do tipo: ', type(elemento))"
   ]
  },
  {
   "cell_type": "markdown",
   "metadata": {
    "id": "RrNcy3X-xVIh"
   },
   "source": [
    "# Import"
   ]
  },
  {
   "cell_type": "code",
   "execution_count": 37,
   "metadata": {
    "id": "cTevC2tGwiZ_"
   },
   "outputs": [],
   "source": [
    "from random import randrange, seed"
   ]
  },
  {
   "cell_type": "code",
   "execution_count": 38,
   "metadata": {
    "id": "j6Z8PYfuyXsc"
   },
   "outputs": [],
   "source": [
    "seed(11)"
   ]
  },
  {
   "cell_type": "code",
   "execution_count": 39,
   "metadata": {
    "colab": {
     "base_uri": "https://localhost:8080/"
    },
    "id": "jCa-0X4YxhIC",
    "outputId": "3223cfd0-6a34-4ebc-caa9-23acd891e1e3"
   },
   "outputs": [
    {
     "data": {
      "text/plain": [
       "7"
      ]
     },
     "execution_count": 39,
     "metadata": {},
     "output_type": "execute_result"
    }
   ],
   "source": [
    "randrange(0,11)"
   ]
  },
  {
   "cell_type": "code",
   "execution_count": 40,
   "metadata": {
    "colab": {
     "base_uri": "https://localhost:8080/"
    },
    "id": "7dTMwODmxwzj",
    "outputId": "97792a2c-861a-4307-c8f7-26c358259c79"
   },
   "outputs": [
    {
     "data": {
      "text/plain": [
       "[8, 7, 7, 8, 9, 3, 2, 8]"
      ]
     },
     "execution_count": 40,
     "metadata": {},
     "output_type": "execute_result"
    }
   ],
   "source": [
    "notas_matematica = []\n",
    "\n",
    "for notas in range(8):\n",
    "  notas_matematica.append(randrange(0,11))\n",
    "\n",
    "notas_matematica"
   ]
  },
  {
   "cell_type": "code",
   "execution_count": 41,
   "metadata": {
    "colab": {
     "base_uri": "https://localhost:8080/"
    },
    "id": "rbfck3oWx-aN",
    "outputId": "168cf8aa-302a-4c64-fc6d-37a0606c5238"
   },
   "outputs": [
    {
     "data": {
      "text/plain": [
       "8"
      ]
     },
     "execution_count": 41,
     "metadata": {},
     "output_type": "execute_result"
    }
   ],
   "source": [
    "len(notas_matematica)"
   ]
  },
  {
   "cell_type": "markdown",
   "metadata": {
    "id": "8Ywtcf3d4VFB"
   },
   "source": [
    "# Plotando gráfico das notas\n"
   ]
  },
  {
   "cell_type": "code",
   "execution_count": 42,
   "metadata": {
    "id": "RRyzCpQt4fZs"
   },
   "outputs": [],
   "source": [
    "import matplotlib.pyplot as plt"
   ]
  },
  {
   "cell_type": "code",
   "execution_count": 44,
   "metadata": {
    "id": "UAKVsist4ppQ"
   },
   "outputs": [],
   "source": [
    "x = list(range(1,9))\n",
    "y = notas_matematica"
   ]
  },
  {
   "cell_type": "code",
   "execution_count": 50,
   "metadata": {
    "colab": {
     "base_uri": "https://localhost:8080/",
     "height": 472
    },
    "id": "jlGZvnw15A5t",
    "outputId": "3ed0fd1e-fe04-4b61-96f0-cb70820b0be8"
   },
   "outputs": [
    {
     "data": {
      "image/png": "[encoded data removed]",
      "text/plain": [
       "<Figure size 640x480 with 1 Axes>"
      ]
     },
     "metadata": {},
     "output_type": "display_data"
    }
   ],
   "source": [
    "plt.plot(x,y, marker='o')\n",
    "plt.title('Notas de matemática')\n",
    "plt.xlabel('Provas')\n",
    "plt.ylabel('Notas')\n",
    "plt.show()"
   ]
  },
  {
   "cell_type": "code",
   "execution_count": 51,
   "metadata": {
    "colab": {
     "base_uri": "https://localhost:8080/"
    },
    "id": "_zxzCqjX6Cu4",
    "outputId": "47bad375-8997-4919-e505-3997f62b4492"
   },
   "outputs": [
    {
     "data": {
      "text/plain": [
       "[8, 7, 7, 8, 9, 3, 2, 8]"
      ]
     },
     "execution_count": 51,
     "metadata": {},
     "output_type": "execute_result"
    }
   ],
   "source": [
    "notas_matematica"
   ]
  }
 ],
 "metadata": {
  "colab": {
   "provenance": []
  },
  "kernelspec": {
   "display_name": "Python 3",
   "language": "python",
   "name": "python3"
  },
  "language_info": {
   "codemirror_mode": {
    "name": "ipython",
    "version": 3
   },
   "file_extension": ".py",
   "mimetype": "text/x-python",
   "name": "python",
   "nbconvert_exporter": "python",
   "pygments_lexer": "ipython3",
   "version": "3.8.5"
  }
 },
 "nbformat": 4,
 "nbformat_minor": 1
}
